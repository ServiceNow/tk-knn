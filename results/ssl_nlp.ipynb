{
 "cells": [
  {
   "cell_type": "code",
   "execution_count": 1,
   "id": "9253d814",
   "metadata": {},
   "outputs": [
    {
     "data": {
      "application/vnd.jupyter.widget-view+json": {
       "model_id": "73010a5bb8684bae8dab515099f18c2c",
       "version_major": 2,
       "version_minor": 0
      },
      "text/plain": [
       "Label(value='Loading Dashboard...', layout=Layout(width='800px'))"
      ]
     },
     "metadata": {},
     "output_type": "display_data"
    },
    {
     "data": {
      "application/vnd.jupyter.widget-view+json": {
       "model_id": "cc7d2a83cc124d7a9a360425caddf3d3",
       "version_major": 2,
       "version_minor": 0
      },
      "text/plain": [
       "Output()"
      ]
     },
     "metadata": {},
     "output_type": "display_data"
    },
    {
     "data": {
      "application/vnd.jupyter.widget-view+json": {
       "model_id": "79ebd687ccb24033b4ba86b0a99014f9",
       "version_major": 2,
       "version_minor": 0
      },
      "text/plain": [
       "Output()"
      ]
     },
     "metadata": {},
     "output_type": "display_data"
    },
    {
     "data": {
      "application/vnd.jupyter.widget-view+json": {
       "model_id": "38e929f4c4c34a96becf7fdf36d0d560",
       "version_major": 2,
       "version_minor": 0
      },
      "text/plain": [
       "Output()"
      ]
     },
     "metadata": {},
     "output_type": "display_data"
    },
    {
     "data": {
      "application/vnd.jupyter.widget-view+json": {
       "model_id": "d1c9b1e92f164973a1ce6e0009f1acb9",
       "version_major": 2,
       "version_minor": 0
      },
      "text/plain": [
       "Output()"
      ]
     },
     "metadata": {},
     "output_type": "display_data"
    },
    {
     "data": {
      "application/vnd.jupyter.widget-view+json": {
       "model_id": "46908211bd40409db7c594fbd0a37dd2",
       "version_major": 2,
       "version_minor": 0
      },
      "text/plain": [
       "Output()"
      ]
     },
     "metadata": {},
     "output_type": "display_data"
    },
    {
     "data": {
      "application/vnd.jupyter.widget-view+json": {
       "model_id": "eef091971e33414fb54726d26505d688",
       "version_major": 2,
       "version_minor": 0
      },
      "text/plain": [
       "Output()"
      ]
     },
     "metadata": {},
     "output_type": "display_data"
    },
    {
     "data": {
      "text/html": [
       "\n",
       "        <style>\n",
       "            .output_scroll {\n",
       "                height: unset !important;\n",
       "                border-radius: unset !important;\n",
       "                -webkit-box-shadow: unset !important;\n",
       "                box-shadow: unset !important;\n",
       "            }\n",
       "        </style>\n",
       "        "
      ],
      "text/plain": [
       "<IPython.core.display.HTML object>"
      ]
     },
     "metadata": {},
     "output_type": "display_data"
    },
    {
     "data": {
      "text/plain": [
       "<haven.haven_jupyter.DashboardManager at 0x7fc9380d3460>"
      ]
     },
     "execution_count": 1,
     "metadata": {},
     "output_type": "execute_result"
    }
   ],
   "source": [
    "\n",
    "from haven import haven_jupyter as hj\n",
    "from haven import haven_results as hr\n",
    "from haven import haven_utils as hu\n",
    "\n",
    "# path to where the experiments got saved\n",
    "savedir_base = '/home/user/tk_knn/results/'\n",
    "exp_list = None\n",
    "\n",
    "# get experiments from the exp config\n",
    "exp_config_fname = \"/home/user/tk_knn/exp_configs.py\"\n",
    "if exp_config_fname:\n",
    "    config = hu.load_py(exp_config_fname)\n",
    "    exp_list = []\n",
    "    for exp_group in [\n",
    "        # Simple experiments to see results for. After you have run an experiment just uncomment the experiment name and then\n",
    "        # run the jupyter notebook to view the results for a specific experiment.\n",
    "        # \"ganbert_clinc_one_percent\",\n",
    "        # \"threshold_clinc_one_percent\",\n",
    "        # \"flexmatch_clinc_one_percent\",\n",
    "        # \"tk_knn_clinc_one_percent\",\n",
    "        \n",
    "        # \"tk_knn_clinc_one_percent\",\n",
    "        # \"tk_knn_banking_one_percent\",\n",
    "        # \"tk_knn_hwu64_one_percent\",\n",
    "        \n",
    "        # \"supervised_all_data\",\n",
    "        \n",
    "        \n",
    "                    ]:\n",
    "        exp_list += config.EXP_GROUPS[exp_group]\n",
    "\n",
    "# filter exps\n",
    "filterby_list = []\n",
    "\n",
    "# get experiments\n",
    "rm = hr.ResultManager(\n",
    "                      exp_list=exp_list,\n",
    "                      savedir_base=savedir_base,\n",
    "                      filterby_list=filterby_list,\n",
    "                      verbose=0,\n",
    "                      exp_groups=None,\n",
    "                      job_scheduler='toolkit',\n",
    "                     )\n",
    "\n",
    "# specify display parameters\n",
    "\n",
    "# groupby_list = ['dataset']\n",
    "# title_list = ['dataset']\n",
    "# legend_list = ['model']\n",
    "y_metrics = ['train_loss']\n",
    "x_metric = 'epoch'\n",
    "\n",
    "# launch dashboard\n",
    "hj.get_dashboard(rm, vars(), wide_display=False, enable_datatables=False)"
   ]
  },
  {
   "cell_type": "code",
   "execution_count": null,
   "id": "26e55a38-eb80-4f00-8bdb-1e09529a87cb",
   "metadata": {},
   "outputs": [],
   "source": []
  },
  {
   "cell_type": "code",
   "execution_count": 210,
   "id": "a18861f3-c2d2-477d-a02e-f055aeb61fe8",
   "metadata": {},
   "outputs": [],
   "source": [
    "df = rm.get_score_df()"
   ]
  },
  {
   "cell_type": "code",
   "execution_count": 211,
   "id": "f3bc753a-ac47-4c7d-b2e4-dc6e08137c24",
   "metadata": {},
   "outputs": [],
   "source": [
    "# This cell block and the following ones are used to parse out the best test accuracy scores from a given run.\n",
    "# We use the highest validation loss and accuracy to select the best performing model from the run. We then use the test score\n",
    "# associated with the highest validation scores as the test results and average results over five runs.\n",
    "from collections import defaultdict\n",
    "import numpy as np\n",
    "\n",
    "experiment_to_test_accuracy = defaultdict(list)\n",
    "#track the test accuracys that we need to extract to put into the paper\n",
    "for exp_dict, score_list in zip(rm.exp_list, rm.get_score_lists()): \n",
    "    \n",
    "    dataset = exp_dict[\"dataset\"]\n",
    "    percent_labeled = exp_dict[\"percent_labeled\"]\n",
    "    runs = exp_dict[\"runs\"]\n",
    "    model = exp_dict[\"model\"]\n",
    "    \n",
    "    #for top-k and beta only\n",
    "    if \"top-k\" in exp_dict and \"beta\" in exp_dict:\n",
    "        top_k = exp_dict[\"top-k\"]\n",
    "        beta = exp_dict[\"beta\"]\n",
    "        exp_key = f\"{top_k}_{beta}\"\n",
    "    elif \"top-k\" in exp_dict:\n",
    "        top_k = exp_dict[\"top-k\"]\n",
    "        exp_key = f\"{top_k}\"\n",
    "    \n",
    "    best_val = 100.0\n",
    "    test_acc = 0.0\n",
    "    val_accuracy_per_cycle = np.zeros(30)\n",
    "    test_accuracy_per_cycle = np.zeros(30)\n",
    "    val_loss_per_cycle = np.full((30), np.inf)\n",
    "    for idx, score_dict in enumerate(score_list):\n",
    "        \n",
    "        cycle = score_dict[\"cycle\"]\n",
    "        if \"val_loss\" in score_dict:\n",
    "            val_loss = score_dict[\"val_loss\"]\n",
    "            if val_loss < val_loss_per_cycle[cycle]:\n",
    "                val_loss_per_cycle[cycle] = val_loss\n",
    "\n",
    "                if score_dict[\"val_acc\"] > val_accuracy_per_cycle[cycle]:\n",
    "                    val_accuracy_per_cycle[cycle] = score_dict[\"val_acc\"]\n",
    "                    test_accuracy_per_cycle[cycle] = score_dict[\"test_acc\"]\n",
    "                        \n",
    "    experiment_to_test_accuracy[exp_key].append(test_accuracy_per_cycle)\n",
    "\n",
    "    #TOP-k, Top-k knn, Top-k upper\n",
    "    if \"top-k\" in exp_dict and \"beta\" in exp_dict:\n",
    "        top_k = exp_dict[\"top-k\"]\n",
    "        beta = exp_dict[\"beta\"]\n",
    "        row_idx = df[(df[\"percent_labeled\"] == percent_labeled) & (df[\"runs\"] == runs) & (df[\"dataset\"] == f\"'{dataset}'\") & (df[\"top-k\"] == top_k) & (df[\"beta\"] == beta)].index[0]\n",
    "    elif \"top-k\" in exp_dict:\n",
    "        top_k = exp_dict[\"top-k\"]\n",
    "        row_idx = df[(df[\"percent_labeled\"] == percent_labeled) & (df[\"runs\"] == runs) & (df[\"dataset\"] == f\"'{dataset}'\") & (df[\"top-k\"] == top_k)].index[0]\n",
    "    else:\n",
    "        #Supervised, PL, PL-T\n",
    "        row_idx = df[(df[\"percent_labeled\"] == percent_labeled) & (df[\"runs\"] == runs) & (df[\"dataset\"] == f\"'{dataset}'\") & (df[\"model\"] == f\"'{model}'\")].index[0]\n",
    "\n",
    "\n",
    "    test_acc = np.max(test_accuracy_per_cycle)\n",
    "    df.at[row_idx, \"test_acc\"] = test_acc\n"
   ]
  },
  {
   "cell_type": "code",
   "execution_count": 212,
   "id": "1e108be5-34fd-4484-8495-b4b60028016b",
   "metadata": {},
   "outputs": [],
   "source": [
    "clinc_df = df[df['dataset'].isin([\"'clinc'\"])]\n",
    "banking_df = df[df['dataset'].isin([\"'banking77'\"])]\n",
    "hwu_df = df[df['dataset'].isin([\"'hwu64'\"])]\n",
    "\n",
    "#For each row in the dataframe we want to get just the percent_labeled, runs, and test_acc\n",
    "\n",
    "clinc_df = clinc_df[[\"percent_labeled\", \"runs\", \"test_acc\"]]\n",
    "banking_df = banking_df[[\"percent_labeled\", \"runs\", \"test_acc\"]]\n",
    "hwu_df = hwu_df[[\"percent_labeled\", \"runs\", \"test_acc\"]]\n",
    "\n",
    "\n"
   ]
  },
  {
   "cell_type": "code",
   "execution_count": 213,
   "id": "3c99da3a",
   "metadata": {},
   "outputs": [
    {
     "name": "stderr",
     "output_type": "stream",
     "text": [
      "/mnt/home/miniconda/envs/ssl_nlp/lib/python3.7/site-packages/ipykernel_launcher.py:10: FutureWarning: Index.ravel returning ndarray is deprecated; in a future version this will return a view on self.\n",
      "  # Remove the CWD from sys.path while we load stuff.\n"
     ]
    }
   ],
   "source": [
    "#At this point each dataset dataframe has a row for each experiment. \n",
    "#The test_acc column holds the max accuracy from the best cycle encountered during training\n",
    "#Need to average the test_acc column across the runs for each experiment\n",
    "import math\n",
    "\n",
    "def caclualte_mean_std_confidence_interval(df):\n",
    "    #For each percent_labeled value we want to get the average test_acc across the runs\n",
    "    #For each percent_labeled value we want to get the 95% confidence interval for the test_acc across the runs\n",
    "    df = df.groupby([\"percent_labeled\"]).agg({\"test_acc\": [\"mean\", \"std\"]})\n",
    "    df.columns = [\"_\".join(x) for x in df.columns.ravel()]\n",
    "    df[\"test_acc_lower\"] = df[\"test_acc_mean\"] - 1.96 * (df[\"test_acc_std\"] / math.sqrt(5))\n",
    "    df[\"test_acc_upper\"] = df[\"test_acc_mean\"] + 1.96 * (df[\"test_acc_std\"] / math.sqrt(5))\n",
    "    #Add a column for the confidence interval\n",
    "    df[\"confidence_interval\"] = df[\"test_acc_upper\"] - df[\"test_acc_mean\"]\n",
    "    return df\n",
    "\n",
    "\n",
    "#For each percent_labeled value we want to get the average test_acc across the runs\n",
    "#For each percent_labeled value we want to get the 95% confidence interval for the test_acc across the runs\n",
    "clinc_df = caclualte_mean_std_confidence_interval(clinc_df)\n",
    "banking_df = caclualte_mean_std_confidence_interval(banking_df)\n",
    "hwu_df = caclualte_mean_std_confidence_interval(hwu_df)\n",
    "\n",
    "clinc_df = clinc_df * 100\n",
    "banking_df = banking_df * 100\n",
    "hwu_df = hwu_df * 100\n",
    "\n",
    "clinc_df = clinc_df.round(2)\n",
    "banking_df = banking_df.round(2)\n",
    "hwu_df = hwu_df.round(2)"
   ]
  },
  {
   "cell_type": "code",
   "execution_count": 214,
   "id": "21dd6273-6928-4159-abb7-743a551ebfae",
   "metadata": {},
   "outputs": [
    {
     "data": {
      "text/html": [
       "<div>\n",
       "<style scoped>\n",
       "    .dataframe tbody tr th:only-of-type {\n",
       "        vertical-align: middle;\n",
       "    }\n",
       "\n",
       "    .dataframe tbody tr th {\n",
       "        vertical-align: top;\n",
       "    }\n",
       "\n",
       "    .dataframe thead th {\n",
       "        text-align: right;\n",
       "    }\n",
       "</style>\n",
       "<table border=\"1\" class=\"dataframe\">\n",
       "  <thead>\n",
       "    <tr style=\"text-align: right;\">\n",
       "      <th></th>\n",
       "      <th>test_acc_mean</th>\n",
       "      <th>test_acc_std</th>\n",
       "      <th>test_acc_lower</th>\n",
       "      <th>test_acc_upper</th>\n",
       "      <th>confidence_interval</th>\n",
       "    </tr>\n",
       "    <tr>\n",
       "      <th>percent_labeled</th>\n",
       "      <th></th>\n",
       "      <th></th>\n",
       "      <th></th>\n",
       "      <th></th>\n",
       "      <th></th>\n",
       "    </tr>\n",
       "  </thead>\n",
       "  <tbody>\n",
       "    <tr>\n",
       "      <th>0.01</th>\n",
       "      <td>50.28</td>\n",
       "      <td>3.42</td>\n",
       "      <td>47.28</td>\n",
       "      <td>53.27</td>\n",
       "      <td>3.00</td>\n",
       "    </tr>\n",
       "    <tr>\n",
       "      <th>0.02</th>\n",
       "      <td>63.99</td>\n",
       "      <td>0.97</td>\n",
       "      <td>63.14</td>\n",
       "      <td>64.84</td>\n",
       "      <td>0.85</td>\n",
       "    </tr>\n",
       "  </tbody>\n",
       "</table>\n",
       "</div>"
      ],
      "text/plain": [
       "                 test_acc_mean  test_acc_std  test_acc_lower  test_acc_upper  \\\n",
       "percent_labeled                                                                \n",
       "0.01                     50.28          3.42           47.28           53.27   \n",
       "0.02                     63.99          0.97           63.14           64.84   \n",
       "\n",
       "                 confidence_interval  \n",
       "percent_labeled                       \n",
       "0.01                            3.00  \n",
       "0.02                            0.85  "
      ]
     },
     "execution_count": 214,
     "metadata": {},
     "output_type": "execute_result"
    }
   ],
   "source": [
    "clinc_df"
   ]
  },
  {
   "cell_type": "code",
   "execution_count": 215,
   "id": "411912d8-88d1-49d5-8bd4-2599ee07a538",
   "metadata": {},
   "outputs": [
    {
     "data": {
      "text/html": [
       "<div>\n",
       "<style scoped>\n",
       "    .dataframe tbody tr th:only-of-type {\n",
       "        vertical-align: middle;\n",
       "    }\n",
       "\n",
       "    .dataframe tbody tr th {\n",
       "        vertical-align: top;\n",
       "    }\n",
       "\n",
       "    .dataframe thead th {\n",
       "        text-align: right;\n",
       "    }\n",
       "</style>\n",
       "<table border=\"1\" class=\"dataframe\">\n",
       "  <thead>\n",
       "    <tr style=\"text-align: right;\">\n",
       "      <th></th>\n",
       "      <th>test_acc_mean</th>\n",
       "      <th>test_acc_std</th>\n",
       "      <th>test_acc_lower</th>\n",
       "      <th>test_acc_upper</th>\n",
       "      <th>confidence_interval</th>\n",
       "    </tr>\n",
       "    <tr>\n",
       "      <th>percent_labeled</th>\n",
       "      <th></th>\n",
       "      <th></th>\n",
       "      <th></th>\n",
       "      <th></th>\n",
       "      <th></th>\n",
       "    </tr>\n",
       "  </thead>\n",
       "  <tbody>\n",
       "    <tr>\n",
       "      <th>0.01</th>\n",
       "      <td>49.16</td>\n",
       "      <td>3.45</td>\n",
       "      <td>46.14</td>\n",
       "      <td>52.18</td>\n",
       "      <td>3.02</td>\n",
       "    </tr>\n",
       "    <tr>\n",
       "      <th>0.02</th>\n",
       "      <td>59.81</td>\n",
       "      <td>1.93</td>\n",
       "      <td>58.11</td>\n",
       "      <td>61.50</td>\n",
       "      <td>1.69</td>\n",
       "    </tr>\n",
       "  </tbody>\n",
       "</table>\n",
       "</div>"
      ],
      "text/plain": [
       "                 test_acc_mean  test_acc_std  test_acc_lower  test_acc_upper  \\\n",
       "percent_labeled                                                                \n",
       "0.01                     49.16          3.45           46.14           52.18   \n",
       "0.02                     59.81          1.93           58.11           61.50   \n",
       "\n",
       "                 confidence_interval  \n",
       "percent_labeled                       \n",
       "0.01                            3.02  \n",
       "0.02                            1.69  "
      ]
     },
     "execution_count": 215,
     "metadata": {},
     "output_type": "execute_result"
    }
   ],
   "source": [
    "banking_df"
   ]
  },
  {
   "cell_type": "code",
   "execution_count": 216,
   "id": "5cd5667b-4f03-4ff6-a867-b9f6e6b97f78",
   "metadata": {},
   "outputs": [
    {
     "data": {
      "text/html": [
       "<div>\n",
       "<style scoped>\n",
       "    .dataframe tbody tr th:only-of-type {\n",
       "        vertical-align: middle;\n",
       "    }\n",
       "\n",
       "    .dataframe tbody tr th {\n",
       "        vertical-align: top;\n",
       "    }\n",
       "\n",
       "    .dataframe thead th {\n",
       "        text-align: right;\n",
       "    }\n",
       "</style>\n",
       "<table border=\"1\" class=\"dataframe\">\n",
       "  <thead>\n",
       "    <tr style=\"text-align: right;\">\n",
       "      <th></th>\n",
       "      <th>test_acc_mean</th>\n",
       "      <th>test_acc_std</th>\n",
       "      <th>test_acc_lower</th>\n",
       "      <th>test_acc_upper</th>\n",
       "      <th>confidence_interval</th>\n",
       "    </tr>\n",
       "    <tr>\n",
       "      <th>percent_labeled</th>\n",
       "      <th></th>\n",
       "      <th></th>\n",
       "      <th></th>\n",
       "      <th></th>\n",
       "      <th></th>\n",
       "    </tr>\n",
       "  </thead>\n",
       "  <tbody>\n",
       "    <tr>\n",
       "      <th>0.01</th>\n",
       "      <td>62.43</td>\n",
       "      <td>3.18</td>\n",
       "      <td>59.65</td>\n",
       "      <td>65.22</td>\n",
       "      <td>2.78</td>\n",
       "    </tr>\n",
       "    <tr>\n",
       "      <th>0.02</th>\n",
       "      <td>71.04</td>\n",
       "      <td>1.06</td>\n",
       "      <td>70.11</td>\n",
       "      <td>71.97</td>\n",
       "      <td>0.93</td>\n",
       "    </tr>\n",
       "  </tbody>\n",
       "</table>\n",
       "</div>"
      ],
      "text/plain": [
       "                 test_acc_mean  test_acc_std  test_acc_lower  test_acc_upper  \\\n",
       "percent_labeled                                                                \n",
       "0.01                     62.43          3.18           59.65           65.22   \n",
       "0.02                     71.04          1.06           70.11           71.97   \n",
       "\n",
       "                 confidence_interval  \n",
       "percent_labeled                       \n",
       "0.01                            2.78  \n",
       "0.02                            0.93  "
      ]
     },
     "execution_count": 216,
     "metadata": {},
     "output_type": "execute_result"
    }
   ],
   "source": [
    "hwu_df"
   ]
  },
  {
   "cell_type": "code",
   "execution_count": 150,
   "id": "eed3f6fb",
   "metadata": {},
   "outputs": [
    {
     "name": "stdout",
     "output_type": "stream",
     "text": [
      "53.23 \\small$\\pm 3.17$ & 65.37 \\small$\\pm 1.17$ \\\\\n"
     ]
    }
   ],
   "source": [
    "# clinc_df.index\n",
    "output_str = f\"{clinc_df.loc[0.01, 'test_acc_mean']} \\small$\\pm {clinc_df.loc[0.01, 'confidence_interval']}$ & {clinc_df.loc[0.02, 'test_acc_mean']} \\small$\\pm {clinc_df.loc[0.02, 'confidence_interval']}$ \\\\\\\\\"\n",
    "print(output_str)"
   ]
  },
  {
   "cell_type": "code",
   "execution_count": 151,
   "id": "bfcd0c88",
   "metadata": {},
   "outputs": [
    {
     "name": "stdout",
     "output_type": "stream",
     "text": [
      "52.4 \\small$\\pm 3.91$ & 62.35 \\small$\\pm 2.18$ \\\\\n"
     ]
    }
   ],
   "source": [
    "output_str = f\"{banking_df.loc[0.01, 'test_acc_mean']} \\small$\\pm {banking_df.loc[0.01, 'confidence_interval']}$ & {banking_df.loc[0.02, 'test_acc_mean']} \\small$\\pm {banking_df.loc[0.02, 'confidence_interval']}$ \\\\\\\\\"\n",
    "print(output_str)"
   ]
  },
  {
   "cell_type": "code",
   "execution_count": 152,
   "id": "6d728583",
   "metadata": {},
   "outputs": [
    {
     "name": "stdout",
     "output_type": "stream",
     "text": [
      "64.41 \\small$\\pm 2.26$ & 72.71 \\small$\\pm 1.07$ \\\\\n"
     ]
    }
   ],
   "source": [
    "output_str = f\"{hwu_df.loc[0.01, 'test_acc_mean']} \\small$\\pm {hwu_df.loc[0.01, 'confidence_interval']}$ & {hwu_df.loc[0.02, 'test_acc_mean']} \\small$\\pm {hwu_df.loc[0.02, 'confidence_interval']}$ \\\\\\\\\"\n",
    "print(output_str)"
   ]
  },
  {
   "cell_type": "code",
   "execution_count": 927,
   "id": "cbe8c567",
   "metadata": {},
   "outputs": [
    {
     "data": {
      "image/png": "[encoded data removed]",
      "text/plain": [
       "<Figure size 640x480 with 1 Axes>"
      ]
     },
     "metadata": {},
     "output_type": "display_data"
    }
   ],
   "source": [
    "# get table \n",
    "rm.get_score_df().head()\n",
    "\n",
    "# get latex \n",
    "# print(rm.get_latex_table(legend=['dataset'], metrics=['train_loss'], decimals=1, caption=\"Results\", label='tab:results'))\n",
    "\n",
    "# get custom plots\n",
    "fig = rm.get_plot_all(\n",
    "                # order='metrics_by_groups',\n",
    "                avg_across='runs',\n",
    "                y_metric_list=y_metrics, \n",
    "                x_metric=x_metric,\n",
    "                # legend_fontsize=18,\n",
    "                # x_fontsize=20,\n",
    "                # y_fontsize=20,\n",
    "                # xtick_fontsize=20,\n",
    "                # ytick_fontsize=20,\n",
    "                # title_fontsize=24,\n",
    "                legend_list=['beta', 'top-k'], \n",
    "                # title_list = ['dataset'], \n",
    "                # title_format='Dataset:{}',\n",
    "                # log_metric_list = ['train_loss'], \n",
    "                # groupby_list = ['dataset'],\n",
    "                map_ylabel_list=[{'val_acc':'Validation Accuracy'}],\n",
    "                map_xlabel_list=[{'epoch':'Epoch','cycle': 'Cycle'}],\n",
    "                # figsize=(15,5),\n",
    "                # plot_confidence=False,\n",
    "                # savedir_plots='%s' % (name)\n",
    ")\n",
    "\n",
    "import tikzplotlib\n",
    "\n",
    "tikzplotlib.save(\"test2.tex\")\n",
    "          "
   ]
  },
  {
   "cell_type": "code",
   "execution_count": 205,
   "id": "abaa4a5b-177e-4293-92bb-3d5369fc6fd7",
   "metadata": {},
   "outputs": [
    {
     "name": "stdout",
     "output_type": "stream",
     "text": [
      "6_0.0\n",
      "0 0.49535315985130113\n",
      "1 0.583457249070632\n",
      "2 0.6037174721189591\n",
      "3 0.612639405204461\n",
      "4 0.6278810408921933\n",
      "5 0.6317843866171005\n",
      "6 0.6239776951672862\n",
      "7 0.6278810408921933\n",
      "8 0.6302973977695168\n",
      "9 0.6306691449814127\n",
      "10 0.6258364312267658\n",
      "11 0.6256505576208178\n",
      "12 0.6278810408921933\n",
      "13 0.6221189591078067\n",
      "14 0.6228624535315985\n",
      "15 0.616542750929368\n",
      "16 0.6223048327137546\n",
      "17 0.6263940520446096\n",
      "18 0.6256505576208178\n",
      "19 0.6241635687732341\n",
      "20 0.6269516728624536\n",
      "21 0.6232342007434944\n",
      "22 0.6226765799256505\n",
      "23 0.6234200743494424\n",
      "24 0.6263940520446096\n",
      "25 0.6243494423791822\n",
      "26 0.6230483271375464\n",
      "27 0.6254646840148699\n",
      "28 0.6245353159851301\n",
      "29 0.6250929368029741\n",
      "6_0.25\n",
      "0 0.49535315985130113\n",
      "1 0.587918215613383\n",
      "2 0.6033457249070633\n",
      "3 0.6213754646840148\n",
      "4 0.6286245353159852\n",
      "5 0.6325278810408921\n",
      "6 0.6425650557620818\n",
      "7 0.6390334572490706\n",
      "8 0.6394052044609666\n",
      "9 0.6355018587360595\n",
      "10 0.6388475836431227\n",
      "11 0.637546468401487\n",
      "12 0.6356877323420074\n",
      "13 0.629368029739777\n",
      "14 0.63364312267658\n",
      "15 0.6369888475836432\n",
      "16 0.6301115241635687\n",
      "17 0.6332713754646841\n",
      "18 0.6362453531598513\n",
      "19 0.6347583643122676\n",
      "20 0.641449814126394\n",
      "21 0.6345724907063197\n",
      "22 0.6304832713754647\n",
      "23 0.6321561338289963\n",
      "24 0.6327137546468401\n",
      "25 0.6319702602230484\n",
      "26 0.6349442379182155\n",
      "27 0.6310408921933085\n",
      "28 0.6336431226765799\n",
      "29 0.6327137546468402\n",
      "6_0.5\n",
      "0 0.49535315985130113\n",
      "1 0.5910780669144982\n",
      "2 0.603903345724907\n",
      "3 0.6232342007434944\n",
      "4 0.6276951672862453\n",
      "5 0.625278810408922\n",
      "6 0.6254646840148699\n",
      "7 0.633085501858736\n",
      "8 0.628996282527881\n",
      "9 0.6249070631970259\n",
      "10 0.6271375464684015\n",
      "11 0.6273234200743494\n",
      "12 0.6262081784386618\n",
      "13 0.6319702602230484\n",
      "14 0.6301115241635687\n",
      "15 0.6302973977695168\n",
      "16 0.6327137546468402\n",
      "17 0.6304832713754647\n",
      "18 0.6282527881040892\n",
      "19 0.6278810408921933\n",
      "20 0.6304832713754648\n",
      "21 0.6288104089219331\n",
      "22 0.6314126394052045\n",
      "23 0.6308550185873606\n",
      "24 0.628438661710037\n",
      "25 0.6234200743494424\n",
      "26 0.6312267657992565\n",
      "27 0.6278810408921933\n",
      "28 0.6304832713754647\n",
      "29 0.6314126394052044\n",
      "6_0.75\n",
      "0 0.49535315985130113\n",
      "1 0.5955390334572491\n",
      "2 0.6074349442379182\n",
      "3 0.6208178438661711\n",
      "4 0.633457249070632\n",
      "5 0.642007434944238\n",
      "6 0.6340148698884759\n",
      "7 0.6514869888475836\n",
      "8 0.6397769516728624\n",
      "9 0.6421933085501859\n",
      "10 0.6327137546468402\n",
      "11 0.6362453531598513\n",
      "12 0.636802973977695\n",
      "13 0.6364312267657992\n",
      "14 0.6358736059479554\n",
      "15 0.6314126394052045\n",
      "16 0.6325278810408921\n",
      "17 0.633271375464684\n",
      "18 0.63364312267658\n",
      "19 0.6334572490706318\n",
      "20 0.6317843866171003\n",
      "21 0.6325278810408922\n",
      "22 0.6325278810408923\n",
      "23 0.6343866171003716\n",
      "24 0.6301115241635687\n",
      "25 0.625650557620818\n",
      "26 0.6325278810408921\n",
      "27 0.6286245353159851\n",
      "28 0.6323420074349442\n",
      "29 0.6312267657992565\n",
      "6_1.0\n",
      "0 0.49535315985130113\n",
      "1 0.5973977695167287\n",
      "2 0.6079925650557622\n",
      "3 0.6176579925650557\n",
      "4 0.629368029739777\n",
      "5 0.637360594795539\n",
      "6 0.6256505576208179\n",
      "7 0.6343866171003717\n",
      "8 0.6267657992565056\n",
      "9 0.63364312267658\n",
      "10 0.625278810408922\n",
      "11 0.6275092936802974\n",
      "12 0.6328996282527881\n",
      "13 0.6310408921933085\n",
      "14 0.6284386617100373\n",
      "15 0.6314126394052044\n",
      "16 0.6275092936802974\n",
      "17 0.6345724907063197\n",
      "18 0.6325278810408921\n",
      "19 0.6342007434944238\n",
      "20 0.6351301115241635\n",
      "21 0.6368029739776951\n",
      "22 0.6386617100371746\n",
      "23 0.6388475836431227\n",
      "24 0.6371747211895911\n",
      "25 0.6390334572490707\n",
      "26 0.6355018587360595\n",
      "27 0.637360594795539\n",
      "28 0.6397769516728624\n",
      "29 0.64182156133829\n"
     ]
    }
   ],
   "source": [
    "for exp, arys in experiment_to_test_accuracy.items():\n",
    "    \n",
    "    print(exp)\n",
    "    # print(arys)\n",
    "    summed_ary = np.zeros(30)\n",
    "    for ary in arys:\n",
    "        summed_ary += ary\n",
    "        # print(ary)\n",
    "        \n",
    "    average_ary = summed_ary / 5\n",
    "    \n",
    "    # print(exp)\n",
    "    for idx, value in enumerate(average_ary):\n",
    "        print(f\"{idx} {value}\")\n",
    "    "
   ]
  },
  {
   "cell_type": "code",
   "execution_count": 141,
   "id": "ae4b43a5-de99-4837-9e77-9504762ccf40",
   "metadata": {},
   "outputs": [
    {
     "data": {
      "text/plain": [
       "pandas.core.frame.DataFrame"
      ]
     },
     "execution_count": 141,
     "metadata": {},
     "output_type": "execute_result"
    }
   ],
   "source": []
  }
 ],
 "metadata": {
  "kernelspec": {
   "display_name": "Python 3 (ipykernel)",
   "language": "python",
   "name": "python3"
  },
  "language_info": {
   "codemirror_mode": {
    "name": "ipython",
    "version": 3
   },
   "file_extension": ".py",
   "mimetype": "text/x-python",
   "name": "python",
   "nbconvert_exporter": "python",
   "pygments_lexer": "ipython3",
   "version": "3.9.16"
  },
  "vscode": {
   "interpreter": {
    "hash": "2d71b957aebaba01b89227318e0dce9552f5cedcbdd95e5396b2c1798c64d546"
   }
  }
 },
 "nbformat": 4,
 "nbformat_minor": 5
}
